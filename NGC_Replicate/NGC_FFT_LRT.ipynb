{
 "cells": [
  {
   "cell_type": "code",
   "execution_count": 4,
   "metadata": {},
   "outputs": [],
   "source": [
    "# Libraries, parameters\n",
    "\n",
    "import numpy as np\n",
    "import matplotlib.pyplot as plt\n",
    "import pandas as pd\n",
    "from scipy.stats import norm\n",
    "from scipy.integrate import quad\n",
    "from scipy.interpolate import interp1d\n",
    "from scipy.signal import fftconvolve\n",
    "from scipy.stats import poisson\n",
    "from scipy.optimize import minimize\n",
    "import math\n",
    "\n",
    "# Norms for the PMNS matrix squared:\n",
    "u_e = [0, 0.674743, 0.302844, 0.0224125]\n",
    "u_m = [0, 0.0946105, 0.360415, 0.544974]\n",
    "u_t = [0, 0.230646, 0.33674,  0.432613]\n",
    "\n",
    "\n",
    "# Effective distance traveled in 1oeV:\n",
    "l_eff = 4.4434e23 * 5.06773093741 * 1e6\n",
    "\n",
    "# Importing hypotheses and bin edges\n",
    "hypotheses = pd.read_csv('hypotheses.csv')\n",
    "bin_edges = pd.read_csv('bin_edges.csv')\n",
    "\n",
    "# concatenating\n",
    "frames = [bin_edges, hypotheses]\n",
    "ngc_chart = pd.concat(frames, axis=1)\n",
    "\n",
    "# Importing effective area data:\n",
    "eff_a = np.loadtxt('effA_-5to30.dat')\n",
    "\n",
    "# Limits of energy bins in the effective area data:\n",
    "e_min = 1e-1\n",
    "e_max = 7.94328e5\n",
    "\n",
    "# More parameters:\n",
    "phi0 = 5e-11 * 275270400 # TeV^-1 cm^-2 over 3168 days\n",
    "e0 = 1 # TeV\n",
    "index = 3.2 # Taken from NGC paper\n",
    "width = 0.3 # In log10 scale, for track-like events\n",
    "\n",
    "# del_m2\n",
    "del_m2 = 10**(-17.8)\n",
    "\n",
    "base = 10"
   ]
  },
  {
   "cell_type": "code",
   "execution_count": 48,
   "metadata": {},
   "outputs": [
    {
     "name": "stdout",
     "output_type": "stream",
     "text": [
      "0.013763520000000001\n"
     ]
    }
   ],
   "source": [
    "print(phi0)"
   ]
  },
  {
   "cell_type": "code",
   "execution_count": 59,
   "metadata": {},
   "outputs": [],
   "source": [
    "# Big Boy Integral Function: outputs entire event distribution for some PD hypothesis\n",
    "\n",
    "def BigIntegral(del_m2):\n",
    "\n",
    "    # Define the integrand functions\n",
    "    def F(log_e_reco, del_m2):\n",
    "\n",
    "        exp_e_reco = 10**(log_e_reco)\n",
    "\n",
    "        flux = 3*phi0*(exp_e_reco/e0)**(-index)\n",
    "\n",
    "        x = eff_a[:,0]\n",
    "        y = eff_a[:,4]\n",
    "        f = interp1d(x, y)\n",
    "        effa = 10000*f(exp_e_reco)\n",
    "\n",
    "        osc = (np.cos((del_m2 * l_eff)/(4*exp_e_reco*1e12)))**2\n",
    "        prob_surv = osc * ((u_m[1]*u_m[1]) + (u_m[2]*u_m[2]) + (u_m[3]*u_m[3]))\n",
    "        prob_emu = osc * ((u_e[1]*u_m[1]) + (u_e[2]*u_m[2]) + (u_e[3]*u_m[3]))\n",
    "        prob_mu = 0.666666*prob_surv + 0.333333*prob_emu \n",
    "\n",
    "        fx = flux*effa*prob_mu\n",
    "\n",
    "        return fx\n",
    "\n",
    "    def G(log_e_reco):\n",
    "        return (1/(width*np.sqrt(2*np.pi)))*np.exp(-0.5*((log_e_reco)/width)**2)\n",
    "\n",
    "    # Define the bins\n",
    "    num_bins = 10000\n",
    "    a = np.linspace(-1, 3, num_bins)\n",
    "\n",
    "    # Discretize F and G\n",
    "    F_sample = []\n",
    "    G_sample = []\n",
    "    for i in range(num_bins):\n",
    "        F_sample.append(F(a[i], del_m2))\n",
    "        G_sample.append(G(a[i]))\n",
    "  \n",
    "    # Translation factor to make this fit with the expected results\n",
    "    H = []\n",
    "    for i in range(int(num_bins/2)):\n",
    "        H.append(0)\n",
    "    G_sample = H+G_sample\n",
    "\n",
    "    # Convolve\n",
    "    convolution = fftconvolve(F_sample, G_sample, mode='same')*(a[1]-a[0])\n",
    "    b = np.linspace(-1, 3, len(convolution))\n",
    "    FG = interp1d(b, convolution)\n",
    "\n",
    "    # Take outside integral, first changing to log energy scale\n",
    "    def NewIntegrand(log_e_reco):\n",
    "        return np.log(10)*np.power(10, log_e_reco)*FG(log_e_reco)\n",
    "\n",
    "    def FFTIntegral(log_e_start, log_e_end):\n",
    "        return quad(NewIntegrand, log_e_start, log_e_end, limit=50, epsabs=0.5)[0]\n",
    "\n",
    "    # record data\n",
    "    int_FFT = []\n",
    "    for i in range(len(ngc_chart['energy'])-1):\n",
    "        e_t = np.log10(ngc_chart['energy'][i])\n",
    "        e_t_next = np.log10(ngc_chart['energy'][i+1])\n",
    "        int_FFT.append(FFTIntegral(e_t, e_t_next))\n",
    "    int_FFT.append(0)\n",
    "\n",
    "    return int_FFT"
   ]
  },
  {
   "cell_type": "code",
   "execution_count": 60,
   "metadata": {},
   "outputs": [],
   "source": [
    "# Big Boy Integral Function with parameters allowed to vary\n",
    "\n",
    "def BigIntegral1(del_m2, phi0, index):\n",
    "\n",
    "    # Define the integrand functions\n",
    "    def F(log_e_reco, del_m2):\n",
    "\n",
    "        exp_e_reco = 10**(log_e_reco)\n",
    "\n",
    "        flux = 3*phi0*(exp_e_reco/e0)**(-index)\n",
    "\n",
    "        x = eff_a[:,0]\n",
    "        y = eff_a[:,4]\n",
    "        f = interp1d(x, y)\n",
    "        effa = 10000*f(exp_e_reco)\n",
    "\n",
    "        osc = (np.cos((del_m2 * l_eff)/(4*exp_e_reco*1e12)))**2\n",
    "        prob_surv = osc * ((u_m[1]*u_m[1]) + (u_m[2]*u_m[2]) + (u_m[3]*u_m[3]))\n",
    "        prob_emu = osc * ((u_e[1]*u_m[1]) + (u_e[2]*u_m[2]) + (u_e[3]*u_m[3]))\n",
    "        prob_mu = 0.666666*prob_surv + 0.333333*prob_emu \n",
    "\n",
    "        fx = flux*effa*prob_mu\n",
    "\n",
    "        return fx\n",
    "\n",
    "    def G(log_e_reco):\n",
    "        return (1/(width*np.sqrt(2*np.pi)))*np.exp(-0.5*((log_e_reco)/width)**2)\n",
    "\n",
    "    # Define the bins\n",
    "    num_bins = 10000\n",
    "    a = np.linspace(-1, 3, num_bins)\n",
    "\n",
    "    # Discretize F and G\n",
    "    F_sample = []\n",
    "    G_sample = []\n",
    "    for i in range(num_bins):\n",
    "        F_sample.append(F(a[i], del_m2))\n",
    "        G_sample.append(G(a[i]))\n",
    "  \n",
    "    # Translation factor to make this fit with the expected results\n",
    "    H = []\n",
    "    for i in range(int(num_bins/2)):\n",
    "        H.append(0)\n",
    "    G_sample = H+G_sample\n",
    "\n",
    "    # Convolve\n",
    "    convolution = fftconvolve(F_sample, G_sample, mode='same')*(a[1]-a[0])\n",
    "    b = np.linspace(-1, 3, len(convolution))\n",
    "    FG = interp1d(b, convolution)\n",
    "\n",
    "    # Take outside integral, first changing to log energy scale\n",
    "    def NewIntegrand(log_e_reco):\n",
    "        return np.log(10)*np.power(10, log_e_reco)*FG(log_e_reco)\n",
    "\n",
    "    def FFTIntegral(log_e_start, log_e_end):\n",
    "        return quad(NewIntegrand, log_e_start, log_e_end, limit=50, epsabs=0.5)[0]\n",
    "\n",
    "    # record data\n",
    "    int_FFT = []\n",
    "    for i in range(len(ngc_chart['energy'])-1):\n",
    "        e_t = np.log10(ngc_chart['energy'][i])\n",
    "        e_t_next = np.log10(ngc_chart['energy'][i+1])\n",
    "        int_FFT.append(FFTIntegral(e_t, e_t_next))\n",
    "    int_FFT.append(0)\n",
    "\n",
    "    return int_FFT"
   ]
  },
  {
   "cell_type": "code",
   "execution_count": 114,
   "metadata": {},
   "outputs": [],
   "source": [
    "# LRT Functions\n",
    "\n",
    "def Poissonlog(data, hyp):\n",
    "    return np.log((hyp**data)*np.exp(-hyp)/math.gamma(data + 1))\n",
    "\n",
    "def Poisson(data, hyp):\n",
    "    return (hyp**data)*np.exp(-hyp)/math.gamma(data + 1)\n",
    "\n",
    "def LRT(test, del_m2):\n",
    "    # test is a tuple: (phi_0_test, index_test)\n",
    "    hyp_null = BigIntegral1(0, phi0, index)\n",
    "    hyp_alt = BigIntegral1(del_m2, test[0], test[1])\n",
    "\n",
    "    summand_alt = np.zeros(len(hyp_null))\n",
    "\n",
    "    for i in range(len(hyp_null)):\n",
    "        summand_alt[i] = Poissonlog(hyp_null[i], hyp_alt[i]) - Poissonlog(hyp_null[i], hyp_null[i])\n",
    "\n",
    "    ts_alt = -2*sum(summand_alt)\n",
    "\n",
    "    return ts_alt"
   ]
  },
  {
   "cell_type": "code",
   "execution_count": 47,
   "metadata": {},
   "outputs": [],
   "source": [
    "# Goal: to minimize the LRT function\n",
    "bnds = ((0, None), (0, 8))\n",
    "def MinLRT(del_m2):\n",
    "    x0 = (phi0, index)\n",
    "    min_lrt = minimize(LRT, x0, args=(del_m2, ), method=\"SLSQP\", bounds=bnds, tol=0.5)\n",
    "    return min_lrt"
   ]
  },
  {
   "cell_type": "code",
   "execution_count": 111,
   "metadata": {},
   "outputs": [],
   "source": [
    "# Goal: to maximize the Poissonlog function for the alternative hypotheses\n",
    "def MaxLH(del_m2):\n",
    "\n",
    "    def NegLH(test, del_m2):\n",
    "        hyp_null = BigIntegral1(0, phi0, index)\n",
    "        hyp_alt = BigIntegral1(del_m2, test[0], test[1])\n",
    "\n",
    "        summand_alt = np.zeros(len(hyp_null))\n",
    "        for i in range(len(hyp_null)):\n",
    "            summand_alt[i] = Poissonlog(hyp_null[i], hyp_alt[i])\n",
    "        \n",
    "        poisson_lh = np.sum(summand_alt)\n",
    "\n",
    "        return -poisson_lh\n",
    "\n",
    "    bnds = ((phi0/2, 0.04128), (1, 5))\n",
    "    x0 = (phi0, index)\n",
    "    min_neglh = minimize(NegLH, x0, args = (del_m2, ), method=\"SLSQP\", bounds=bnds, tol=0.01)\n",
    "\n",
    "    return min_neglh.x # first element in the array is max_lh phi0, second element is max_lh index\n"
   ]
  },
  {
   "cell_type": "code",
   "execution_count": 132,
   "metadata": {},
   "outputs": [
    {
     "name": "stdout",
     "output_type": "stream",
     "text": [
      "max LH params: [0.02459377 3.45189896]\n",
      "max LH LRT: 5.485387996506199\n"
     ]
    }
   ],
   "source": [
    "# Test out a delm2 PD hypothesis and maximize Poisson likelihood\n",
    "\n",
    "test_del_m2 = 10**(-17.9)\n",
    "test = MaxLH(test_del_m2)\n",
    "print(f\"max LH params: {test}\")\n",
    "test_maxlh = (test[0], test[1])\n",
    "test_LRT = LRT(test_maxlh, test_del_m2)\n",
    "print(f\"max LH LRT: {test_LRT}\")"
   ]
  },
  {
   "cell_type": "code",
   "execution_count": 131,
   "metadata": {},
   "outputs": [
    {
     "data": {
      "text/plain": [
       "<matplotlib.legend.Legend at 0x124330810>"
      ]
     },
     "execution_count": 131,
     "metadata": {},
     "output_type": "execute_result"
    },
    {
     "data": {
      "image/png": "[encoded data removed]",
      "text/plain": [
       "<Figure size 640x480 with 1 Axes>"
      ]
     },
     "metadata": {},
     "output_type": "display_data"
    }
   ],
   "source": [
    "# Plot Event Distributions of Max LH alt hyps:\n",
    "\n",
    "fig, ax = plt.subplots()\n",
    "intFFT_null, = ax.step(ngc_chart['energy'], BigIntegral(0))\n",
    "intFFT_178, = ax.step(ngc_chart['energy'], BigIntegral1(test_del_m2, test[0], test[1]))\n",
    "# intFFT_20, = ax.step(ngc_chart['energy'], BigIntegral(10**(-20)))\n",
    "ax.set_xscale('log')\n",
    "ax.set_xticks([10**-1, 10**0, 10**1, 10**2])\n",
    "ax.set_xlabel(r\"$E_{\\nu}$ (reco) [TeV]\")\n",
    "ax.set_ylabel(r\"# of events\")\n",
    "# ax.set_title(r\"$\\delta m^2 = 0$ eV$^2$\", loc=\"left\")\n",
    "ax.set_title(r\"Event Distribution (different PD hypotheses)\", loc=\"center\")\n",
    "ax.legend([intFFT_null, intFFT_178], [r\"$\\delta m^2 = 0$\", r\"$\\delta m^2 = 10^{-17.8}$\"])"
   ]
  },
  {
   "cell_type": "code",
   "execution_count": 124,
   "metadata": {},
   "outputs": [
    {
     "name": "stderr",
     "output_type": "stream",
     "text": [
      "/var/folders/f1/m1ggk_2j6sg3vl8gbd6xc_080000gn/T/ipykernel_16175/3164174864.py:4: RuntimeWarning: divide by zero encountered in log\n",
      "  return np.log((hyp**data)*np.exp(-hyp)/math.gamma(data + 1))\n"
     ]
    }
   ],
   "source": [
    "# Apply the MaxLH alt hypothesis to the LRT function\n",
    "\n",
    "min_del = -19\n",
    "max_del = -14\n",
    "num_bins = 30\n",
    "\n",
    "dm2s = np.linspace(min_del, max_del, num_bins)\n",
    "\n",
    "test_stats = []\n",
    "\n",
    "for i in range(len(dm2s)):\n",
    "    max_lh = MaxLH(10**(dm2s[i]))\n",
    "    test_maxlh = (max_lh[0], max_lh[1])\n",
    "    test_stats.append(LRT(test_maxlh, 10**(dm2s[i])))"
   ]
  },
  {
   "cell_type": "code",
   "execution_count": 127,
   "metadata": {},
   "outputs": [],
   "source": [
    "np.savetxt(\"LRT_first_stats.dat\", test_stats)"
   ]
  },
  {
   "cell_type": "code",
   "execution_count": 137,
   "metadata": {},
   "outputs": [
    {
     "data": {
      "text/plain": [
       "<matplotlib.collections.LineCollection at 0x124ce9150>"
      ]
     },
     "execution_count": 137,
     "metadata": {},
     "output_type": "execute_result"
    },
    {
     "data": {
      "image/png": "[encoded data removed]",
      "text/plain": [
       "<Figure size 640x480 with 1 Axes>"
      ]
     },
     "metadata": {},
     "output_type": "display_data"
    }
   ],
   "source": [
    "bins = np.logspace(min_del, max_del, num_bins)\n",
    "\n",
    "fig, ax = plt.subplots()\n",
    "intFFT_null, = ax.step(bins, test_stats)\n",
    "ax.set_xscale('log')\n",
    "ax.set_xticks([10**(-19), 10**(-18), 10**(-17), 10**(-16), 10**(-15), 10**(-14)])\n",
    "ax.set_xlabel(r\"$\\delta m^2$ [eV$^2$]\")\n",
    "ax.set_ylabel(r\"$-2\\delta LLH$\")\n",
    "# ax.set_title(r\"$\\Delta m^2 = 0$ eV$^2$\", loc=\"left\")\n",
    "ax.set_title(r\"Significance to different PD hypotheses\", loc=\"center\")\n",
    "ax.fill_between(bins, test_stats, 0, color='blue', alpha=.5, step='pre')\n",
    "ax.hlines(y=0.89, xmin=bins[0], xmax = bins[num_bins-1])"
   ]
  }
 ],
 "metadata": {
  "kernelspec": {
   "display_name": "Python 3.11.1 64-bit",
   "language": "python",
   "name": "python3"
  },
  "language_info": {
   "codemirror_mode": {
    "name": "ipython",
    "version": 3
   },
   "file_extension": ".py",
   "mimetype": "text/x-python",
   "name": "python",
   "nbconvert_exporter": "python",
   "pygments_lexer": "ipython3",
   "version": "3.11.1"
  },
  "orig_nbformat": 4,
  "vscode": {
   "interpreter": {
    "hash": "aee8b7b246df8f9039afb4144a1f6fd8d2ca17a180786b69acc140d282b71a49"
   }
  }
 },
 "nbformat": 4,
 "nbformat_minor": 2
}
